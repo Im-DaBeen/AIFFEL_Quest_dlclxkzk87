{
  "nbformat": 4,
  "nbformat_minor": 0,
  "metadata": {
    "colab": {
      "provenance": [],
      "authorship_tag": "ABX9TyMdne/Z7DUD5mR4EJ6A96rM",
      "include_colab_link": true
    },
    "kernelspec": {
      "name": "python3",
      "display_name": "Python 3"
    },
    "language_info": {
      "name": "python"
    }
  },
  "cells": [
    {
      "cell_type": "markdown",
      "metadata": {
        "id": "view-in-github",
        "colab_type": "text"
      },
      "source": [
        "<a href=\"https://colab.research.google.com/github/Im-DaBeen/AIFFEL_Quest_dlclxkzk87/blob/main/Python_quest/Quest04/Nemo.ipynb\" target=\"_parent\"><img src=\"https://colab.research.google.com/assets/colab-badge.svg\" alt=\"Open In Colab\"/></a>"
      ]
    },
    {
      "cell_type": "markdown",
      "source": [
        "조건\n",
        "아래 물고기 리스트를 입력값으로 넣었을때 물고기의 움직임을 출력값으로 뱉어내도록 만들어봅시다.\n",
        " 물고기의 움직임을 출력하는 함수 2개(컴프리헨션, 제너레이터)를 만듭니다.\n",
        "컴프리헨션 함수에는 이름, 속도를 조합하고 제너레티어 함수에는 for문과 yield문를 활용합니다.\n",
        "물고기 리스트를 입력받으면, 2개의 함수는 물고기 이름과, 속도를 출력해야 합니다."
      ],
      "metadata": {
        "id": "2Hifv8R-Wm1f"
      }
    },
    {
      "cell_type": "markdown",
      "source": [
        "출력 예시\n",
        "===\n",
        "입력값 :\n",
        "\n",
        "# 물고기 리스트 생성\n",
        "fish_list = [\n",
        " {\"이름\": \"Nemo\", \"speed\": 3},\n",
        "{\"이름\": \"Dory\", \"speed\": 5},\n",
        "]\n",
        "print(\"Using Comprehension:\") show_fish_movement_comprehension(fish_list)\n",
        "print(\"Using Generator:\") show_fish_movement_Generator(fish_list)\n",
        "\n",
        "출력값 :\n",
        "\n",
        "Using Comprehension:\n",
        "\n",
        "Nemo is swimming at 3 m/s\n",
        "Dory is swimming at 5 m/s\n",
        "\n",
        "Using Generator:\n",
        "\n",
        "Nemo is swimming at 3 m/s\n",
        "Dory is swimming at 5 m/s\n"
      ],
      "metadata": {
        "id": "nolxKhJKWwI_"
      }
    },
    {
      "cell_type": "code",
      "source": [
        "#물고기 리스트 생성\n",
        "fish_list = [\n",
        " {\"이름\": \"Nemo\", \"speed\": 3},\n",
        "{\"이름\": \"Dory\", \"speed\": 5},\n",
        "]\n",
        "\n",
        "def show_fish_movement_comprehension(fish_list):\n",
        "  #표현식 for x in 이터러블 if 조건\n",
        "  fish_movements = [f'{x[\"이름\"]} is swimming at {x[\"speed\"]} m/s' for x in fish_list]\n",
        "  for fish_movement in fish_movements:\n",
        "    print(fish_movement)\n",
        "\n",
        "def show_fish_movement_Generator(fish_list):\n",
        "  for x in fish_list:\n",
        "    yield f'{x[\"이름\"]} is swimming at {x[\"speed\"]} m/s'\n",
        "\n",
        "\n",
        "print(\"Using Comprehension:\")\n",
        "show_fish_movement_comprehension(fish_list)\n",
        "print(\"Using Generator:\")\n",
        "#show_fish_movement_Generator(fish_list)\n",
        "for i in show_fish_movement_Generator(fish_list):#내부적으로 next()를 호출\n",
        "  print(i)"
      ],
      "metadata": {
        "colab": {
          "base_uri": "https://localhost:8080/"
        },
        "id": "2qDAayY5XCva",
        "outputId": "3a5f232e-d6eb-4db6-d8d6-6be4402a5879"
      },
      "execution_count": 24,
      "outputs": [
        {
          "output_type": "stream",
          "name": "stdout",
          "text": [
            "Using Comprehension:\n",
            "Nemo is swimming at 3 m/s\n",
            "Dory is swimming at 5 m/s\n",
            "Using Generator:\n",
            "Nemo is swimming at 3 m/s\n",
            "Dory is swimming at 5 m/s\n"
          ]
        }
      ]
    },
    {
      "cell_type": "markdown",
      "source": [
        "# 회고\n",
        "제너레이터에 대한 개념이 명확히 이해하고 있지 않았음을 확인할 수 있는 시간이었다. 이터러블과 이터레이터의 차이점과 어떻게 적용하는지에 대해서도 몸소 체감할 수 있었다. 내가 알고 있다고 생각하는 것과 내가 실제로 알고 있는 지식은 설명할 수 있는가이다. 앞으로 개념마다 명확히 설명할 수 있도록 방향을 바꾸어 공부해야겠다."
      ],
      "metadata": {
        "id": "A0fJ7wVZlh74"
      }
    }
  ]
}